{
 "cells": [
  {
   "cell_type": "code",
   "execution_count": null,
   "id": "a141c852",
   "metadata": {},
   "outputs": [],
   "source": [
    "# Cargar librerias\n",
    "import pandas as pd\n",
    "import numpy as np"
   ]
  },
  {
   "cell_type": "code",
   "execution_count": null,
   "id": "9310a0f5",
   "metadata": {},
   "outputs": [],
   "source": [
    "# =============================================================================\n",
    "# EXPLORAR ARCHIVO REAL: TerriData_Dim14.xlsx\n",
    "# =============================================================================\n",
    "\n",
    "print(\"📂 Cargando archivo base_datos_completa_NNA_TI_anon.xlsx - Hoja 'BD'...\")\n",
    "\n",
    "# Cargar el archivo Excel especificando la hoja 'BD'\n",
    "df_bd = pd.read_excel('/content/base_datos_completa_NNA_TI_anon.xlsx', sheet_name='BD')\n",
    "\n",
    "print(f\"✅ Archivo cargado exitosamente en el DataFrame 'df_bd'!\")\n",
    "print(f\"\\n{'='*70}\")\n",
    "print(\"📊 INFORMACIÓN GENERAL DEL ARCHIVO\")\n",
    "print(f\"{'='*70}\")\n",
    "print(f\"Número de filas: {len(df_bd)}\")\n",
    "print(f\"Número de columnas: {len(df_bd.columns)}\")"
   ]
  },
  {
   "cell_type": "code",
   "execution_count": null,
   "id": "65d92d6f",
   "metadata": {},
   "outputs": [],
   "source": [
    "# Crear una nueva copia del DataFrame df_bd\n",
    "df_bd_copy = df_bd.copy()\n",
    "\n",
    "print(\"Se ha creado una nueva copia del DataFrame df_bd en df_bd_copy.\")\n",
    "print(\"Mostrando las primeras filas del nuevo DataFrame duplicado:\")\n",
    "display(df_bd_copy.head())\n",
    "\n",
    "print(f\"\\n{'='*70}\")\n",
    "print(\"🔢 COLUMNAS NUMÉRICAS:\")\n",
    "print(f\"{'='*70}\")\n",
    "numeric_columns = df_bd_copy.select_dtypes(include=[np.number]).columns\n",
    "for col in numeric_columns:\n",
    "    print(f\"\\n{col}:\")\n",
    "    print(f\"  - Media: {df_bd_copy[col].mean():.2f}\")\n",
    "    print(f\"  - Min: {df_bd_copy[col].min():.2f}\")\n",
    "    print(f\"  - Max: {df_bd_copy[col].max():.2f}\")\n",
    "    print(f\"  - Valores nulos: {df_bd_copy[col].isnull().sum()}\")"
   ]
  },
  {
   "cell_type": "code",
   "execution_count": null,
   "id": "4020d0bd",
   "metadata": {},
   "outputs": [],
   "source": [
    "# Exportar el DataFrame df_bd_copy a un archivo Excel\n",
    "output_path = '/content/df_bd_copy.xlsx'\n",
    "df_bd_copy.to_excel(output_path, index=False)\n",
    "\n",
    "print(f\"DataFrame df_bd_copy exportado exitosamente a '{output_path}'\")"
   ]
  }
 ],
 "metadata": {
  "kernelspec": {
   "display_name": "Python 3 (ipykernel)",
   "language": "python",
   "name": "python3"
  },
  "language_info": {
   "codemirror_mode": {
    "name": "ipython",
    "version": 3
   },
   "file_extension": ".py",
   "mimetype": "text/x-python",
   "name": "python",
   "nbconvert_exporter": "python",
   "pygments_lexer": "ipython3",
   "version": "3.12.1"
  }
 },
 "nbformat": 4,
 "nbformat_minor": 5
}
